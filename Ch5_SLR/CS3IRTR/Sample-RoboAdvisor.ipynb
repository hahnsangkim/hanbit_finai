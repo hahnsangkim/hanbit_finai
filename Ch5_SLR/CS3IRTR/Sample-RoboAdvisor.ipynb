{
 "cells": [
  {
   "cell_type": "markdown",
   "metadata": {},
   "source": [
    "# Robo Advisor - Dashboard"
   ]
  },
  {
   "cell_type": "markdown",
   "metadata": {},
   "source": [
    "## Content\n",
    "* [1. Loading the Libraries and the data](#1)\n",
    "* [2. Code for the dashboard Interface](#2)\n",
    "* [3. Code for the underlying functions within the interface](#3)\n",
    "\n",
    "\n",
    "#### Note that the dashboard opens up in a separate browser. The url for the browser will be produced in the end of the code and would look something like \"http://127.0.0.1:8080\""
   ]
  },
  {
   "cell_type": "markdown",
   "metadata": {},
   "source": [
    "<a id='1'></a>\n",
    "## 1. Loading the Libraries and the data"
   ]
  },
  {
   "cell_type": "markdown",
   "metadata": {},
   "source": [
    "Checking if the additional packages needed are present, if not install them. These are checked separately as they aren't included in requirement.txt as they aren't used for all case studies."
   ]
  },
  {
   "cell_type": "code",
   "execution_count": 1,
   "metadata": {},
   "outputs": [],
   "source": [
    "import pkg_resources\n",
    "import pip\n",
    "installedPackages = {pkg.key for pkg in pkg_resources.working_set}\n",
    "required = {'dash', 'dash-core-components', 'dash-html-components', 'dash-daq', 'cvxopt' }\n",
    "missing = required - installedPackages\n",
    "if missing:\n",
    "    !pip3 install dash>=1.9.1\n",
    "    !pip3 install dash-core-components>=1.8.1\n",
    "    !pip3 install dash-html-components>=1.0.2\n",
    "    !pip3 install dash-daq>=0.4.0\n",
    "    !pip3 install cvxopt>=1.2.5"
   ]
  },
  {
   "cell_type": "code",
   "execution_count": 2,
   "metadata": {},
   "outputs": [],
   "source": [
    "import dash\n",
    "import dash_core_components as dcc\n",
    "import dash_html_components as html\n",
    "from dash.dependencies import Input,Output,State\n",
    "import pandas as pd\n",
    "import numpy as np\n",
    "import plotly.graph_objs as go\n",
    "import dash_daq as daq\n",
    "from pickle import load\n",
    "import cvxopt as opt\n",
    "from cvxopt import blas, solvers"
   ]
  },
  {
   "cell_type": "markdown",
   "metadata": {},
   "source": [
    "### Load the data of the investors/individuals"
   ]
  },
  {
   "cell_type": "code",
   "execution_count": 3,
   "metadata": {},
   "outputs": [],
   "source": [
    "thisiscolab = False\n",
    "working_dir = '../../data/'\n",
    "if thisiscolab:\n",
    "    from google.colab import drive\n",
    "    drive.mount('/content/drive')\n",
    "    root_dir = '/content/drive/MyDrive/Colab Notebooks/hanbit_mlfi/'\n",
    "    root_dir = root_dir + 'Ch5_SLR/CS3IRTR'\n",
    "    from os import chdir\n",
    "    chdir(root_dir)"
   ]
  },
  {
   "cell_type": "code",
   "execution_count": 4,
   "metadata": {},
   "outputs": [
    {
     "output_type": "execute_result",
     "data": {
      "text/plain": [
       "   AGE07  EDCL07  MARRIED07  KIDS07  LIFECL07  OCCAT107      INCOME07  RISK07  \\\n",
       "0     47       2          1       0         2         1  56443.744181       3   \n",
       "\n",
       "   WSAVED07  SPENDMOR07   NETWORTH07  TrueRiskTol  \n",
       "0         1           5  352641.7113     6.947439  "
      ],
      "text/html": "<div>\n<style scoped>\n    .dataframe tbody tr th:only-of-type {\n        vertical-align: middle;\n    }\n\n    .dataframe tbody tr th {\n        vertical-align: top;\n    }\n\n    .dataframe thead th {\n        text-align: right;\n    }\n</style>\n<table border=\"1\" class=\"dataframe\">\n  <thead>\n    <tr style=\"text-align: right;\">\n      <th></th>\n      <th>AGE07</th>\n      <th>EDCL07</th>\n      <th>MARRIED07</th>\n      <th>KIDS07</th>\n      <th>LIFECL07</th>\n      <th>OCCAT107</th>\n      <th>INCOME07</th>\n      <th>RISK07</th>\n      <th>WSAVED07</th>\n      <th>SPENDMOR07</th>\n      <th>NETWORTH07</th>\n      <th>TrueRiskTol</th>\n    </tr>\n  </thead>\n  <tbody>\n    <tr>\n      <th>0</th>\n      <td>47</td>\n      <td>2</td>\n      <td>1</td>\n      <td>0</td>\n      <td>2</td>\n      <td>1</td>\n      <td>56443.744181</td>\n      <td>3</td>\n      <td>1</td>\n      <td>5</td>\n      <td>352641.7113</td>\n      <td>6.947439</td>\n    </tr>\n  </tbody>\n</table>\n</div>"
     },
     "metadata": {},
     "execution_count": 4
    }
   ],
   "source": [
    "# df.head()\n",
    "investors = pd.read_csv(working_dir+'InputData.csv', index_col = 0 )\n",
    "investors.head(1)"
   ]
  },
  {
   "cell_type": "markdown",
   "metadata": {},
   "source": [
    "### Load the market data and clean the data"
   ]
  },
  {
   "cell_type": "code",
   "execution_count": 5,
   "metadata": {},
   "outputs": [
    {
     "output_type": "error",
     "ename": "FileNotFoundError",
     "evalue": "[Errno 2] No such file or directory: 'SP500Data.csv'",
     "traceback": [
      "\u001b[0;31m---------------------------------------------------------------------------\u001b[0m",
      "\u001b[0;31mFileNotFoundError\u001b[0m                         Traceback (most recent call last)",
      "\u001b[0;32m<ipython-input-5-c8e22f969503>\u001b[0m in \u001b[0;36m<module>\u001b[0;34m\u001b[0m\n\u001b[0;32m----> 1\u001b[0;31m \u001b[0massets\u001b[0m \u001b[0;34m=\u001b[0m \u001b[0mpd\u001b[0m\u001b[0;34m.\u001b[0m\u001b[0mread_csv\u001b[0m\u001b[0;34m(\u001b[0m\u001b[0;34m'SP500Data.csv'\u001b[0m\u001b[0;34m,\u001b[0m\u001b[0mindex_col\u001b[0m\u001b[0;34m=\u001b[0m\u001b[0;36m0\u001b[0m\u001b[0;34m)\u001b[0m\u001b[0;34m\u001b[0m\u001b[0;34m\u001b[0m\u001b[0m\n\u001b[0m\u001b[1;32m      2\u001b[0m \u001b[0mmissing_fractions\u001b[0m \u001b[0;34m=\u001b[0m \u001b[0massets\u001b[0m\u001b[0;34m.\u001b[0m\u001b[0misnull\u001b[0m\u001b[0;34m(\u001b[0m\u001b[0;34m)\u001b[0m\u001b[0;34m.\u001b[0m\u001b[0mmean\u001b[0m\u001b[0;34m(\u001b[0m\u001b[0;34m)\u001b[0m\u001b[0;34m.\u001b[0m\u001b[0msort_values\u001b[0m\u001b[0;34m(\u001b[0m\u001b[0mascending\u001b[0m\u001b[0;34m=\u001b[0m\u001b[0;32mFalse\u001b[0m\u001b[0;34m)\u001b[0m\u001b[0;34m\u001b[0m\u001b[0;34m\u001b[0m\u001b[0m\n\u001b[1;32m      3\u001b[0m \u001b[0;34m\u001b[0m\u001b[0m\n\u001b[1;32m      4\u001b[0m \u001b[0mmissing_fractions\u001b[0m\u001b[0;34m.\u001b[0m\u001b[0mhead\u001b[0m\u001b[0;34m(\u001b[0m\u001b[0;36m10\u001b[0m\u001b[0;34m)\u001b[0m\u001b[0;34m\u001b[0m\u001b[0;34m\u001b[0m\u001b[0m\n\u001b[1;32m      5\u001b[0m \u001b[0;34m\u001b[0m\u001b[0m\n",
      "\u001b[0;32m~/.virtualenvs/hanbit_finai-xEqNmjSS/lib/python3.8/site-packages/pandas/io/parsers.py\u001b[0m in \u001b[0;36mread_csv\u001b[0;34m(filepath_or_buffer, sep, delimiter, header, names, index_col, usecols, squeeze, prefix, mangle_dupe_cols, dtype, engine, converters, true_values, false_values, skipinitialspace, skiprows, skipfooter, nrows, na_values, keep_default_na, na_filter, verbose, skip_blank_lines, parse_dates, infer_datetime_format, keep_date_col, date_parser, dayfirst, cache_dates, iterator, chunksize, compression, thousands, decimal, lineterminator, quotechar, quoting, doublequote, escapechar, comment, encoding, dialect, error_bad_lines, warn_bad_lines, delim_whitespace, low_memory, memory_map, float_precision, storage_options)\u001b[0m\n\u001b[1;32m    608\u001b[0m     \u001b[0mkwds\u001b[0m\u001b[0;34m.\u001b[0m\u001b[0mupdate\u001b[0m\u001b[0;34m(\u001b[0m\u001b[0mkwds_defaults\u001b[0m\u001b[0;34m)\u001b[0m\u001b[0;34m\u001b[0m\u001b[0;34m\u001b[0m\u001b[0m\n\u001b[1;32m    609\u001b[0m \u001b[0;34m\u001b[0m\u001b[0m\n\u001b[0;32m--> 610\u001b[0;31m     \u001b[0;32mreturn\u001b[0m \u001b[0m_read\u001b[0m\u001b[0;34m(\u001b[0m\u001b[0mfilepath_or_buffer\u001b[0m\u001b[0;34m,\u001b[0m \u001b[0mkwds\u001b[0m\u001b[0;34m)\u001b[0m\u001b[0;34m\u001b[0m\u001b[0;34m\u001b[0m\u001b[0m\n\u001b[0m\u001b[1;32m    611\u001b[0m \u001b[0;34m\u001b[0m\u001b[0m\n\u001b[1;32m    612\u001b[0m \u001b[0;34m\u001b[0m\u001b[0m\n",
      "\u001b[0;32m~/.virtualenvs/hanbit_finai-xEqNmjSS/lib/python3.8/site-packages/pandas/io/parsers.py\u001b[0m in \u001b[0;36m_read\u001b[0;34m(filepath_or_buffer, kwds)\u001b[0m\n\u001b[1;32m    460\u001b[0m \u001b[0;34m\u001b[0m\u001b[0m\n\u001b[1;32m    461\u001b[0m     \u001b[0;31m# Create the parser.\u001b[0m\u001b[0;34m\u001b[0m\u001b[0;34m\u001b[0m\u001b[0;34m\u001b[0m\u001b[0m\n\u001b[0;32m--> 462\u001b[0;31m     \u001b[0mparser\u001b[0m \u001b[0;34m=\u001b[0m \u001b[0mTextFileReader\u001b[0m\u001b[0;34m(\u001b[0m\u001b[0mfilepath_or_buffer\u001b[0m\u001b[0;34m,\u001b[0m \u001b[0;34m**\u001b[0m\u001b[0mkwds\u001b[0m\u001b[0;34m)\u001b[0m\u001b[0;34m\u001b[0m\u001b[0;34m\u001b[0m\u001b[0m\n\u001b[0m\u001b[1;32m    463\u001b[0m \u001b[0;34m\u001b[0m\u001b[0m\n\u001b[1;32m    464\u001b[0m     \u001b[0;32mif\u001b[0m \u001b[0mchunksize\u001b[0m \u001b[0;32mor\u001b[0m \u001b[0miterator\u001b[0m\u001b[0;34m:\u001b[0m\u001b[0;34m\u001b[0m\u001b[0;34m\u001b[0m\u001b[0m\n",
      "\u001b[0;32m~/.virtualenvs/hanbit_finai-xEqNmjSS/lib/python3.8/site-packages/pandas/io/parsers.py\u001b[0m in \u001b[0;36m__init__\u001b[0;34m(self, f, engine, **kwds)\u001b[0m\n\u001b[1;32m    817\u001b[0m             \u001b[0mself\u001b[0m\u001b[0;34m.\u001b[0m\u001b[0moptions\u001b[0m\u001b[0;34m[\u001b[0m\u001b[0;34m\"has_index_names\"\u001b[0m\u001b[0;34m]\u001b[0m \u001b[0;34m=\u001b[0m \u001b[0mkwds\u001b[0m\u001b[0;34m[\u001b[0m\u001b[0;34m\"has_index_names\"\u001b[0m\u001b[0;34m]\u001b[0m\u001b[0;34m\u001b[0m\u001b[0;34m\u001b[0m\u001b[0m\n\u001b[1;32m    818\u001b[0m \u001b[0;34m\u001b[0m\u001b[0m\n\u001b[0;32m--> 819\u001b[0;31m         \u001b[0mself\u001b[0m\u001b[0;34m.\u001b[0m\u001b[0m_engine\u001b[0m \u001b[0;34m=\u001b[0m \u001b[0mself\u001b[0m\u001b[0;34m.\u001b[0m\u001b[0m_make_engine\u001b[0m\u001b[0;34m(\u001b[0m\u001b[0mself\u001b[0m\u001b[0;34m.\u001b[0m\u001b[0mengine\u001b[0m\u001b[0;34m)\u001b[0m\u001b[0;34m\u001b[0m\u001b[0;34m\u001b[0m\u001b[0m\n\u001b[0m\u001b[1;32m    820\u001b[0m \u001b[0;34m\u001b[0m\u001b[0m\n\u001b[1;32m    821\u001b[0m     \u001b[0;32mdef\u001b[0m \u001b[0mclose\u001b[0m\u001b[0;34m(\u001b[0m\u001b[0mself\u001b[0m\u001b[0;34m)\u001b[0m\u001b[0;34m:\u001b[0m\u001b[0;34m\u001b[0m\u001b[0;34m\u001b[0m\u001b[0m\n",
      "\u001b[0;32m~/.virtualenvs/hanbit_finai-xEqNmjSS/lib/python3.8/site-packages/pandas/io/parsers.py\u001b[0m in \u001b[0;36m_make_engine\u001b[0;34m(self, engine)\u001b[0m\n\u001b[1;32m   1048\u001b[0m             )\n\u001b[1;32m   1049\u001b[0m         \u001b[0;31m# error: Too many arguments for \"ParserBase\"\u001b[0m\u001b[0;34m\u001b[0m\u001b[0;34m\u001b[0m\u001b[0;34m\u001b[0m\u001b[0m\n\u001b[0;32m-> 1050\u001b[0;31m         \u001b[0;32mreturn\u001b[0m \u001b[0mmapping\u001b[0m\u001b[0;34m[\u001b[0m\u001b[0mengine\u001b[0m\u001b[0;34m]\u001b[0m\u001b[0;34m(\u001b[0m\u001b[0mself\u001b[0m\u001b[0;34m.\u001b[0m\u001b[0mf\u001b[0m\u001b[0;34m,\u001b[0m \u001b[0;34m**\u001b[0m\u001b[0mself\u001b[0m\u001b[0;34m.\u001b[0m\u001b[0moptions\u001b[0m\u001b[0;34m)\u001b[0m  \u001b[0;31m# type: ignore[call-arg]\u001b[0m\u001b[0;34m\u001b[0m\u001b[0;34m\u001b[0m\u001b[0m\n\u001b[0m\u001b[1;32m   1051\u001b[0m \u001b[0;34m\u001b[0m\u001b[0m\n\u001b[1;32m   1052\u001b[0m     \u001b[0;32mdef\u001b[0m \u001b[0m_failover_to_python\u001b[0m\u001b[0;34m(\u001b[0m\u001b[0mself\u001b[0m\u001b[0;34m)\u001b[0m\u001b[0;34m:\u001b[0m\u001b[0;34m\u001b[0m\u001b[0;34m\u001b[0m\u001b[0m\n",
      "\u001b[0;32m~/.virtualenvs/hanbit_finai-xEqNmjSS/lib/python3.8/site-packages/pandas/io/parsers.py\u001b[0m in \u001b[0;36m__init__\u001b[0;34m(self, src, **kwds)\u001b[0m\n\u001b[1;32m   1865\u001b[0m \u001b[0;34m\u001b[0m\u001b[0m\n\u001b[1;32m   1866\u001b[0m         \u001b[0;31m# open handles\u001b[0m\u001b[0;34m\u001b[0m\u001b[0;34m\u001b[0m\u001b[0;34m\u001b[0m\u001b[0m\n\u001b[0;32m-> 1867\u001b[0;31m         \u001b[0mself\u001b[0m\u001b[0;34m.\u001b[0m\u001b[0m_open_handles\u001b[0m\u001b[0;34m(\u001b[0m\u001b[0msrc\u001b[0m\u001b[0;34m,\u001b[0m \u001b[0mkwds\u001b[0m\u001b[0;34m)\u001b[0m\u001b[0;34m\u001b[0m\u001b[0;34m\u001b[0m\u001b[0m\n\u001b[0m\u001b[1;32m   1868\u001b[0m         \u001b[0;32massert\u001b[0m \u001b[0mself\u001b[0m\u001b[0;34m.\u001b[0m\u001b[0mhandles\u001b[0m \u001b[0;32mis\u001b[0m \u001b[0;32mnot\u001b[0m \u001b[0;32mNone\u001b[0m\u001b[0;34m\u001b[0m\u001b[0;34m\u001b[0m\u001b[0m\n\u001b[1;32m   1869\u001b[0m         \u001b[0;32mfor\u001b[0m \u001b[0mkey\u001b[0m \u001b[0;32min\u001b[0m \u001b[0;34m(\u001b[0m\u001b[0;34m\"storage_options\"\u001b[0m\u001b[0;34m,\u001b[0m \u001b[0;34m\"encoding\"\u001b[0m\u001b[0;34m,\u001b[0m \u001b[0;34m\"memory_map\"\u001b[0m\u001b[0;34m,\u001b[0m \u001b[0;34m\"compression\"\u001b[0m\u001b[0;34m)\u001b[0m\u001b[0;34m:\u001b[0m\u001b[0;34m\u001b[0m\u001b[0;34m\u001b[0m\u001b[0m\n",
      "\u001b[0;32m~/.virtualenvs/hanbit_finai-xEqNmjSS/lib/python3.8/site-packages/pandas/io/parsers.py\u001b[0m in \u001b[0;36m_open_handles\u001b[0;34m(self, src, kwds)\u001b[0m\n\u001b[1;32m   1360\u001b[0m         \u001b[0mLet\u001b[0m \u001b[0mthe\u001b[0m \u001b[0mreaders\u001b[0m \u001b[0mopen\u001b[0m \u001b[0mIOHanldes\u001b[0m \u001b[0mafter\u001b[0m \u001b[0mthey\u001b[0m \u001b[0mare\u001b[0m \u001b[0mdone\u001b[0m \u001b[0;32mwith\u001b[0m \u001b[0mtheir\u001b[0m \u001b[0mpotential\u001b[0m \u001b[0mraises\u001b[0m\u001b[0;34m.\u001b[0m\u001b[0;34m\u001b[0m\u001b[0;34m\u001b[0m\u001b[0m\n\u001b[1;32m   1361\u001b[0m         \"\"\"\n\u001b[0;32m-> 1362\u001b[0;31m         self.handles = get_handle(\n\u001b[0m\u001b[1;32m   1363\u001b[0m             \u001b[0msrc\u001b[0m\u001b[0;34m,\u001b[0m\u001b[0;34m\u001b[0m\u001b[0;34m\u001b[0m\u001b[0m\n\u001b[1;32m   1364\u001b[0m             \u001b[0;34m\"r\"\u001b[0m\u001b[0;34m,\u001b[0m\u001b[0;34m\u001b[0m\u001b[0;34m\u001b[0m\u001b[0m\n",
      "\u001b[0;32m~/.virtualenvs/hanbit_finai-xEqNmjSS/lib/python3.8/site-packages/pandas/io/common.py\u001b[0m in \u001b[0;36mget_handle\u001b[0;34m(path_or_buf, mode, encoding, compression, memory_map, is_text, errors, storage_options)\u001b[0m\n\u001b[1;32m    640\u001b[0m                 \u001b[0merrors\u001b[0m \u001b[0;34m=\u001b[0m \u001b[0;34m\"replace\"\u001b[0m\u001b[0;34m\u001b[0m\u001b[0;34m\u001b[0m\u001b[0m\n\u001b[1;32m    641\u001b[0m             \u001b[0;31m# Encoding\u001b[0m\u001b[0;34m\u001b[0m\u001b[0;34m\u001b[0m\u001b[0;34m\u001b[0m\u001b[0m\n\u001b[0;32m--> 642\u001b[0;31m             handle = open(\n\u001b[0m\u001b[1;32m    643\u001b[0m                 \u001b[0mhandle\u001b[0m\u001b[0;34m,\u001b[0m\u001b[0;34m\u001b[0m\u001b[0;34m\u001b[0m\u001b[0m\n\u001b[1;32m    644\u001b[0m                 \u001b[0mioargs\u001b[0m\u001b[0;34m.\u001b[0m\u001b[0mmode\u001b[0m\u001b[0;34m,\u001b[0m\u001b[0;34m\u001b[0m\u001b[0;34m\u001b[0m\u001b[0m\n",
      "\u001b[0;31mFileNotFoundError\u001b[0m: [Errno 2] No such file or directory: 'SP500Data.csv'"
     ]
    }
   ],
   "source": [
    "assets = pd.read_csv('SP500Data.csv',index_col=0)\n",
    "missing_fractions = assets.isnull().mean().sort_values(ascending=False)\n",
    "\n",
    "missing_fractions.head(10)\n",
    "\n",
    "drop_list = sorted(list(missing_fractions[missing_fractions > 0.3].index))\n",
    "\n",
    "assets.drop(labels=drop_list, axis=1, inplace=True)\n",
    "assets.shape\n",
    "# Fill the missing values with the last value available in the dataset. \n",
    "assets=assets.fillna(method='ffill')\n",
    "assets.head(2)"
   ]
  },
  {
   "cell_type": "code",
   "execution_count": 5,
   "metadata": {},
   "outputs": [],
   "source": [
    "options=np.array(assets.columns)\n",
    "# str(options)\n",
    "options = []\n",
    "\n",
    "for tic in assets.columns:\n",
    "    #{'label': 'user sees', 'value': 'script sees'}\n",
    "    mydict = {}\n",
    "    mydict['label'] = tic #Apple Co. AAPL\n",
    "    mydict['value'] = tic\n",
    "    options.append(mydict)"
   ]
  },
  {
   "cell_type": "markdown",
   "metadata": {},
   "source": [
    "<a id='2'></a>\n",
    "## 2. Code for the dashboard Interface"
   ]
  },
  {
   "cell_type": "code",
   "execution_count": 6,
   "metadata": {},
   "outputs": [],
   "source": [
    "app = dash.Dash(__name__, external_stylesheets=['https://codepen.io/chriddyp/pen/bWLwgP.css'])"
   ]
  },
  {
   "cell_type": "code",
   "execution_count": 7,
   "metadata": {},
   "outputs": [],
   "source": [
    "app.layout = html.Div([\n",
    "    html.Div([ \n",
    "        #Dashboard Name\n",
    "        html.Div([\n",
    "            html.H3(children='Robo Advisor Dashboard'),\n",
    "            html.Div([\n",
    "                html.H5(children='Step 1 : Enter Investor Characteristics '),            \n",
    "                ],style={'display': 'inline-block','vertical-align': 'top',  'width': '30%',\\\n",
    "                         'color':'black', 'background-color': 'LightGray'}), \n",
    "            html.Div([\n",
    "                html.H5(children='Step 2 : Asset Allocation and portfolio performance'),            \n",
    "                ],style={'display': 'inline-block', 'vertical-align': 'top',  \\\n",
    "                         'color':'white','horizontalAlign' : \"left\", 'width': '70%', 'background-color':'black'}), \n",
    "            ],style={'font-family': 'calibri'}),        \n",
    "         \n",
    "         #All the Investor Characteristics\n",
    "                      \n",
    "       #********************Demographics Features DropDown********\n",
    "         html.Div([   \n",
    "          html.Div([ \n",
    "            \n",
    "            html.Label('Age:',style={'padding': 5}),\n",
    "            dcc.Slider(\n",
    "                id='Age',\n",
    "                min = investors['AGE07'].min(),\n",
    "                max = 70,\n",
    "                marks={ 25: '25',35: '35',45: '45',55: '55',70: '70'},              \n",
    "                value=25),   \n",
    "            #html.Br(),\n",
    "            \n",
    "            html.Label('NetWorth:', style={'padding': 5}),\n",
    "            dcc.Slider(\n",
    "                id='Nwcat',\n",
    "                #min = investors['NETWORTH07'].min(), \n",
    "                min = -1000000, max = 3000000,\n",
    "                marks={-1000000: '-$1M',0: '0',500000: '$500K',1000000: '$1M',2000000: '$2M',},                \n",
    "                value=10000),\n",
    "            #html.Br(),\n",
    "            html.Label('Income:', style={'padding': 5}),\n",
    "            dcc.Slider(\n",
    "                id='Inccl',\n",
    "                #min = investors['INCOME07'].min(), max = investors['INCOME07'].max(),\n",
    "                min = -1000000,\n",
    "                max = 3000000,\n",
    "                marks={-1000000: '-$1M',0: '0',500000: '$500K',1000000: '$1M',2000000: '$2M',},\n",
    "                value=100000),\n",
    "            \n",
    "           # html.Br(),\n",
    "            html.Label('Education Level (scale of 4):', style={'padding': 5}),\n",
    "            dcc.Slider(\n",
    "                id='Edu',\n",
    "                min = investors['EDCL07'].min(), max = investors['EDCL07'].max(),\n",
    "                marks={ 1: '1',2: '2',3: '3',4: '4'},\n",
    "                value=2), \n",
    "            #html.Br(),\n",
    "            html.Label('Married:', style={'padding': 5}),\n",
    "            dcc.Slider(\n",
    "                id='Married',\n",
    "                min = investors['MARRIED07'].min(), max = investors['MARRIED07'].max(),\n",
    "                marks={ 1: '1',2: '2'},\n",
    "                value=1), \n",
    "            #html.Br(),\n",
    "            html.Label('Kids:', style={'padding': 5}),\n",
    "            dcc.Slider(\n",
    "                id='Kids',\n",
    "                min = investors['KIDS07'].min(), max = investors['KIDS07'].max(),\n",
    "                #marks={ 1: '1',2: '2',3: '3',4: '4'},\n",
    "                marks=[{'label': j, 'value': j} for j in investors['KIDS07'].unique()],\n",
    "                value=3), \n",
    "            #html.Br(),\n",
    "            html.Label('Occupation:', style={'padding': 5}),\n",
    "            dcc.Slider(\n",
    "                id='Occ',\n",
    "                min = investors['OCCAT107'].min(), max = investors['OCCAT107'].max(),\n",
    "                marks={ 1: '1',2: '2',3: '3',4: '4'},\n",
    "                value=3),            \n",
    "            #html.Br(),\n",
    "            html.Label('Willingness to take Risk:', style={'padding': 5}),\n",
    "            dcc.Slider(\n",
    "                id='Risk',\n",
    "                min = investors['RISK07'].min(), max = investors['RISK07'].max(),\n",
    "                marks={ 1: '1',2: '2',3: '3',4: '4'},\n",
    "                value=3), \n",
    "            #html.Br(),\n",
    "            html.Button(id='investor_char_button',\n",
    "                            n_clicks = 0,\n",
    "                            children = 'Calculate Risk Tolerance',\n",
    "                            style = {'fontSize': 14, 'marginLeft': '30px', 'color' : 'white',\\\n",
    "                                     'horizontal-align': 'left','backgroundColor': 'grey'}),             \n",
    "            #html.Br(),            \n",
    "              ],style={'width': '80%'}),           \n",
    "            \n",
    "            ],style={'width': '30%', 'font-family': 'calibri','vertical-align': 'top','display': 'inline-block'\\\n",
    "                     }),\n",
    "#                     , \"border\":\".5px black solid\"}),\n",
    "\n",
    "    # ********************Risk Tolerance Charts********            \n",
    "       html.Div([    \n",
    "               #html.H5(children='Step 2 : Enter the Instruments for the allocation portfolio'),  \n",
    "        html.Div([\n",
    "            html.Div([ \n",
    "                html.Label('Risk Tolerance (scale of 100) :', style={'padding': 5}),\n",
    "                dcc.Input(id= 'risk-tolerance-text'),\n",
    "               \n",
    "                ],style={'width': '100%','font-family': 'calibri','vertical-align': 'top','display': 'inline-block'}),\n",
    "\n",
    "            html.Div([ \n",
    "                html.Label('Select the assets for the portfolio:', style={'padding': 5}),\n",
    "                dcc.Dropdown(\n",
    "                        id='ticker_symbol',\n",
    "                        options = options,\n",
    "                        value = ['GOOGL', 'FB', 'GS','MS','GE','MSFT'], \n",
    "                        multi = True\n",
    "                        # style={'fontSize': 24, 'width': 75}\n",
    "                        ),\n",
    "                html.Button(id='submit-asset_alloc_button',\n",
    "                            n_clicks = 0,\n",
    "                            children = 'Submit',\n",
    "                            style = {'fontSize': 12, 'marginLeft': '25px','color' : 'white', 'backgroundColor': 'grey'}\n",
    "\n",
    "                ), \n",
    "               ],style={'width': '100%','font-family': 'calibri','vertical-align': 'top','display': 'inline-block'}),\n",
    "            ],style={'width': '100%','display': 'inline-block','font-family': 'calibri','vertical-align': 'top'}),\n",
    "           \n",
    "           html.Div([                \n",
    "                html.Div([\n",
    "                    dcc.Graph(id='Asset-Allocation'), \n",
    "                    ], style={'width': '50%', 'vertical-align': 'top', 'display': 'inline-block', \\\n",
    "                      'font-family': 'calibri', 'horizontal-align': 'right'}),\n",
    "                html.Div([\n",
    "                    dcc.Graph(id='Performance')\n",
    "                    ], style={'width': '50%', 'vertical-align': 'top', 'display': 'inline-block', \\\n",
    "                      'font-family': 'calibri', 'horizontal-align': 'right'}),\n",
    "                   ], style={'width': '100%', 'vertical-align': 'top', 'display': 'inline-block', \\\n",
    "                          'font-family': 'calibri', 'horizontal-align': 'right'}),          \n",
    "\n",
    "\n",
    "        ], style={'width': '70%','display': 'inline-block','font-family': 'calibri','vertical-align': 'top', 'horizontal-align': 'right'}),\n",
    "       ],style={'width': '70%','display': 'inline-block','font-family': 'calibri','vertical-align': 'top'}),               \n",
    "\n",
    "  ])    "
   ]
  },
  {
   "cell_type": "markdown",
   "metadata": {},
   "source": [
    "<a id='3'></a>\n",
    "## 3. Code for the underlying functions within the interface\n",
    "\n",
    "The steps performed are as follows: \n",
    "\n",
    "1) Loading the regression model for predicting risk tolerance\n",
    "\n",
    "2) Using markovitz mean variance analysis for asset allocation\n",
    "\n",
    "3) Producing chart for the asset allocation and portfolio performance\n",
    "\n",
    "#### Click the url produced by this code to see the dashboard"
   ]
  },
  {
   "cell_type": "code",
   "execution_count": 8,
   "metadata": {
    "tags": []
   },
   "outputs": [
    {
     "output_type": "stream",
     "name": "stdout",
     "text": [
      " * Serving Flask app \"__main__\" (lazy loading)\n",
      " * Environment: production\n",
      "\u001b[31m   WARNING: This is a development server. Do not use it in a production deployment.\u001b[0m\n",
      "\u001b[2m   Use a production WSGI server instead.\u001b[0m\n",
      " * Debug mode: off\n",
      " * Running on http://127.0.0.1:8050/ (Press CTRL+C to quit)\n"
     ]
    }
   ],
   "source": [
    "def predict_riskTolerance(X_input):\n",
    "\n",
    "    filename = 'finalized_model.sav'\n",
    "    loaded_model = load(open(filename, 'rb'))\n",
    "    print(loaded_model)\n",
    "    # estimate accuracy on validation set\n",
    "    predictions = loaded_model.predict(X_input)\n",
    "    return predictions\n",
    "\n",
    "#Asset allocation given the Return, variance\n",
    "def get_asset_allocation(riskTolerance,stock_ticker):\n",
    "    #ipdb.set_trace()\n",
    "    assets_selected = assets.loc[:,stock_ticker]\n",
    "    return_vec = np.array(assets_selected.pct_change().dropna(axis=0)).T\n",
    "    n = len(return_vec)\n",
    "    returns = np.asmatrix(return_vec)\n",
    "    mus = 1-riskTolerance\n",
    "    \n",
    "    # Convert to cvxopt matrices\n",
    "    S = opt.matrix(np.cov(return_vec))\n",
    "    pbar = opt.matrix(np.mean(return_vec, axis=1))\n",
    "    # Create constraint matrices\n",
    "    G = -opt.matrix(np.eye(n))   # negative n x n identity matrix\n",
    "    h = opt.matrix(0.0, (n ,1))\n",
    "    A = opt.matrix(1.0, (1, n))\n",
    "    b = opt.matrix(1.0)\n",
    "    # Calculate efficient frontier weights using quadratic programming\n",
    "    portfolios = solvers.qp(mus*S, -pbar, G, h, A, b)\n",
    "    w=portfolios['x'].T\n",
    "    print (w)\n",
    "    Alloc =  pd.DataFrame(data = np.array(portfolios['x']),index = assets_selected.columns)\n",
    "\n",
    "    # Calculate efficient frontier weights using quadratic programming\n",
    "    portfolios = solvers.qp(mus*S, -pbar, G, h, A, b)\n",
    "    returns_final=(np.array(assets_selected) * np.array(w))\n",
    "    returns_sum = np.sum(returns_final,axis =1)\n",
    "    returns_sum_pd = pd.DataFrame(returns_sum, index = assets.index )\n",
    "    returns_sum_pd = returns_sum_pd - returns_sum_pd.iloc[0,:] + 100   \n",
    "    return Alloc,returns_sum_pd\n",
    "\n",
    "\n",
    "\n",
    "#Callback for the graph\n",
    "#This function takes all the inputs and computes the cluster and the risk tolerance\n",
    "\n",
    "\n",
    "@app.callback(\n",
    "     [Output('risk-tolerance-text', 'value')],\n",
    "    [Input('investor_char_button', 'n_clicks'),\n",
    "    Input('Age', 'value'),Input('Nwcat', 'value'),\n",
    "    Input('Inccl', 'value'), Input('Risk', 'value'),\n",
    "    Input('Edu', 'value'),Input('Married', 'value'),\n",
    "    Input('Kids', 'value'),Input('Occ', 'value')])\n",
    "#get the x and y axis details \n",
    "\n",
    "def update_risk_tolerance(n_clicks,Age,Nwcat,Inccl,Risk,Edu,Married,Kids,Occ):\n",
    "      \n",
    "    #ipdb.set_trace()\n",
    "    \n",
    "    RiskTolerance = 0\n",
    "    if n_clicks != None:    \n",
    "        X_input = [[Age,Edu,Married,Kids,Occ,Inccl, Risk,Nwcat]]\n",
    "        RiskTolerance= predict_riskTolerance(X_input)\n",
    "    #print(RiskAversion)\n",
    "    #Using linear regression to get the risk tolerance within the cluster.    \n",
    "    return list([round(float(RiskTolerance*100),2)])\n",
    "\n",
    "@app.callback([Output('Asset-Allocation', 'figure'),\n",
    "              Output('Performance', 'figure')],\n",
    "            [Input('submit-asset_alloc_button', 'n_clicks'),\n",
    "            Input('risk-tolerance-text', 'value')], \n",
    "            [State('ticker_symbol', 'value')\n",
    "            ])\n",
    "def update_asset_allocationChart(n_clicks, risk_tolerance, stock_ticker):\n",
    "    \n",
    "    Allocated, InvestmentReturn = get_asset_allocation(risk_tolerance,stock_ticker)  \n",
    "    \n",
    "    return [{'data' : [go.Bar(\n",
    "                        x=Allocated.index,\n",
    "                        y=Allocated.iloc[:,0],\n",
    "                        marker=dict(color='red'),\n",
    "                    ),\n",
    "                    ],\n",
    "            'layout': {'title':\" Asset allocation - Mean-Variance Allocation\"}\n",
    "\n",
    "       },\n",
    "            {'data' : [go.Scatter(\n",
    "                        x=InvestmentReturn.index,\n",
    "                        y=InvestmentReturn.iloc[:,0],\n",
    "                        name = 'OEE (%)',\n",
    "                        marker=dict(color='red'),\n",
    "                    ),\n",
    "                    ],\n",
    "            'layout': {'title':\"Portfolio value of $100 investment\"}\n",
    "\n",
    "       }]\n",
    "\n",
    "if __name__ == '__main__':\n",
    "    app.run_server()"
   ]
  },
  {
   "attachments": {},
   "cell_type": "markdown",
   "metadata": {},
   "source": [
    "## Sample Dashboard\n",
    "\n",
    "<img src=\"RoboDashboard.png\" width=\"1400\" />"
   ]
  }
 ],
 "metadata": {
  "kernelspec": {
   "name": "python3",
   "display_name": "Python 3.8.5 64-bit ('hanbit_finai-xEqNmjSS': virtualenvwrapper)",
   "metadata": {
    "interpreter": {
     "hash": "f5fc7fda28e31e2cabe125312e65ea385ea915cc0c6d7a8b10f6c868700ae883"
    }
   }
  },
  "language_info": {
   "codemirror_mode": {
    "name": "ipython",
    "version": 3
   },
   "file_extension": ".py",
   "mimetype": "text/x-python",
   "name": "python",
   "nbconvert_exporter": "python",
   "pygments_lexer": "ipython3",
   "version": "3.8.5"
  }
 },
 "nbformat": 4,
 "nbformat_minor": 2
}