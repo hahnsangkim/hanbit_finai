{
 "cells": [
  {
   "cell_type": "markdown",
   "metadata": {},
   "source": [
    "### Fetching the data for all the stocks of S&P500"
   ]
  },
  {
   "cell_type": "code",
   "execution_count": 1,
   "metadata": {},
   "outputs": [],
   "source": [
    "# Load libraries\n",
    "import pandas as pd\n",
    "import pandas_datareader as dr"
   ]
  },
  {
   "cell_type": "code",
   "execution_count": 2,
   "metadata": {},
   "outputs": [],
   "source": [
    "# load dataset\n",
    "#scraping wikipedia to fetch S&P 500 stock list\n",
    "snp500url = \"https://en.wikipedia.org/wiki/List_of_S%26P_500_companies\"\n",
    "data_table = pd.read_html(snp500url)"
   ]
  },
  {
   "cell_type": "code",
   "execution_count": null,
   "metadata": {},
   "outputs": [],
   "source": [
    "thisiscolab = False\n",
    "working_dir = '../../data/'\n",
    "if thisiscolab:\n",
    "    from google.colab import drive\n",
    "    drive.mount('/content/drive')\n",
    "    root_dir = '/content/drive/MyDrive/Colab Notebooks/hanbit_mlfi/'\n",
    "    root_dir = root_dir + 'Ch8_ULC/CS1CPT'\n",
    "    from os import chdir\n",
    "    chdir(root_dir)"
   ]
  },
  {
   "cell_type": "code",
   "execution_count": 3,
   "metadata": {},
   "outputs": [
    {
     "output_type": "stream",
     "name": "stdout",
     "text": [
      "\nTotal number of companies are: 504\n"
     ]
    }
   ],
   "source": [
    "tickers = data_table[0][1:]['Symbol'].tolist()\n",
    "#print(tickers)\n",
    "print(\"\\nTotal number of companies are:\", len(tickers))"
   ]
  },
  {
   "cell_type": "code",
   "execution_count": 4,
   "metadata": {},
   "outputs": [],
   "source": [
    "#fetching tickers(500) closing prices from google finance, using DataReader package for this purpose\n",
    "price_list = []\n",
    "for ticker in tickers:\n",
    "    try:\n",
    "        prices = dr.DataReader(ticker,'yahoo','01/01/2018')['Close']\n",
    "        #print(prices)\n",
    "        prices = pd.DataFrame(prices)\n",
    "        prices.columns = [ticker]\n",
    "        price_list.append(prices)\n",
    "    except:\n",
    "        pass\n",
    "    prices_df = pd.concat(price_list,axis=1)\n",
    "prices_df.sort_index(inplace=True)\n",
    "#Once the data is downloaded the data is saved to csv and the data is pulled from the csv \n",
    "prices_df.to_csv(working_dir+\"SP500Data.csv\")"
   ]
  },
  {
   "cell_type": "code",
   "execution_count": null,
   "metadata": {},
   "outputs": [],
   "source": []
  }
 ],
 "metadata": {
  "kernelspec": {
   "name": "python3",
   "display_name": "Python 3.8.5 64-bit ('hanbit_finai-xEqNmjSS')",
   "metadata": {
    "interpreter": {
     "hash": "f5fc7fda28e31e2cabe125312e65ea385ea915cc0c6d7a8b10f6c868700ae883"
    }
   }
  },
  "language_info": {
   "codemirror_mode": {
    "name": "ipython",
    "version": 3
   },
   "file_extension": ".py",
   "mimetype": "text/x-python",
   "name": "python",
   "nbconvert_exporter": "python",
   "pygments_lexer": "ipython3",
   "version": "3.8.5-final"
  }
 },
 "nbformat": 4,
 "nbformat_minor": 2
}